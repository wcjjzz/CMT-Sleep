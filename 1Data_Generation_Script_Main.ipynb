{
 "cells": [
  {
   "cell_type": "markdown",
   "metadata": {
    "colab_type": "text",
    "id": "view-in-github"
   },
   "source": [
    "<a href=\"https://colab.research.google.com/github/Jathurshan0330/Cross-Modal-Transformer/blob/master/Data_Generation_Script_Main.ipynb\" target=\"_parent\"><img src=\"https://colab.research.google.com/assets/colab-badge.svg\" alt=\"Open In Colab\"/></a>"
   ]
  },
  {
   "cell_type": "markdown",
   "metadata": {
    "id": "Le3cAJ6Jc-KE",
    "jp-MarkdownHeadingCollapsed": true
   },
   "source": [
    "## Clone Github"
   ]
  },
  {
   "cell_type": "code",
   "execution_count": null,
   "metadata": {
    "colab": {
     "base_uri": "https://localhost:8080/"
    },
    "id": "fcH3N_c1cSmH",
    "outputId": "0e56e57b-d78d-4146-f067-2eabf212403a"
   },
   "outputs": [
    {
     "name": "stdout",
     "output_type": "stream",
     "text": [
      "Cloning into 'Cross-Modal-Transformer'...\n",
      "remote: Enumerating objects: 349, done.\u001b[K\n",
      "remote: Counting objects: 100% (57/57), done.\u001b[K\n",
      "remote: Compressing objects: 100% (51/51), done.\u001b[K\n",
      "remote: Total 349 (delta 32), reused 12 (delta 6), pack-reused 292\u001b[K\n",
      "Receiving objects: 100% (349/349), 100.56 MiB | 15.72 MiB/s, done.\n",
      "Resolving deltas: 100% (125/125), done.\n"
     ]
    }
   ],
   "source": [
    "!git clone https://github.com/Jathurshan0330/Cross-Modal-Transformer.git"
   ]
  },
  {
   "cell_type": "code",
   "execution_count": null,
   "metadata": {
    "colab": {
     "base_uri": "https://localhost:8080/"
    },
    "id": "byBArJ2mcRif",
    "outputId": "0b094819-1b80-4fb7-caf8-15a58e11f306"
   },
   "outputs": [
    {
     "name": "stdout",
     "output_type": "stream",
     "text": [
      "/content/Cross-Modal-Transformer\n"
     ]
    }
   ],
   "source": [
    "cd  /content/Cross-Modal-Transformer"
   ]
  },
  {
   "cell_type": "markdown",
   "metadata": {
    "id": "1bnLsjYad8IK",
    "jp-MarkdownHeadingCollapsed": true
   },
   "source": [
    "## Install Requirements "
   ]
  },
  {
   "cell_type": "code",
   "execution_count": 5,
   "metadata": {
    "colab": {
     "base_uri": "https://localhost:8080/"
    },
    "id": "QKaW2Tohe8N6",
    "outputId": "d862bd1a-fd31-45d5-e18d-524ce4b98177"
   },
   "outputs": [
    {
     "name": "stdout",
     "output_type": "stream",
     "text": [
      "Requirement already satisfied: numpy in d:\\aigc\\cross-modal-transformer\\env\\lib\\site-packages (from -r requirements.txt (line 2)) (1.26.4)Note: you may need to restart the kernel to use updated packages.\n",
      "\n",
      "Requirement already satisfied: matplotlib in d:\\aigc\\cross-modal-transformer\\env\\lib\\site-packages (from -r requirements.txt (line 3)) (3.8.4)\n",
      "Requirement already satisfied: h5py in d:\\aigc\\cross-modal-transformer\\env\\lib\\site-packages (from -r requirements.txt (line 4)) (3.11.0)\n",
      "Requirement already satisfied: neptune-client in d:\\aigc\\cross-modal-transformer\\env\\lib\\site-packages (from -r requirements.txt (line 5)) (1.10.2)\n",
      "Requirement already satisfied: scikit-image in d:\\aigc\\cross-modal-transformer\\env\\lib\\site-packages (from -r requirements.txt (line 6)) (0.23.1)\n",
      "Requirement already satisfied: scikit-learn in d:\\aigc\\cross-modal-transformer\\env\\lib\\site-packages (from -r requirements.txt (line 7)) (1.4.2)\n",
      "Requirement already satisfied: einops in d:\\aigc\\cross-modal-transformer\\env\\lib\\site-packages (from -r requirements.txt (line 8)) (0.7.0)\n",
      "Requirement already satisfied: mne in d:\\aigc\\cross-modal-transformer\\env\\lib\\site-packages (from -r requirements.txt (line 9)) (1.6.1)\n",
      "Requirement already satisfied: pillow>=8 in d:\\aigc\\cross-modal-transformer\\env\\lib\\site-packages (from matplotlib->-r requirements.txt (line 3)) (10.3.0)\n",
      "Requirement already satisfied: packaging>=20.0 in d:\\aigc\\cross-modal-transformer\\env\\lib\\site-packages (from matplotlib->-r requirements.txt (line 3)) (24.0)\n",
      "Requirement already satisfied: contourpy>=1.0.1 in d:\\aigc\\cross-modal-transformer\\env\\lib\\site-packages (from matplotlib->-r requirements.txt (line 3)) (1.2.1)\n",
      "Requirement already satisfied: kiwisolver>=1.3.1 in d:\\aigc\\cross-modal-transformer\\env\\lib\\site-packages (from matplotlib->-r requirements.txt (line 3)) (1.4.5)\n",
      "Requirement already satisfied: fonttools>=4.22.0 in d:\\aigc\\cross-modal-transformer\\env\\lib\\site-packages (from matplotlib->-r requirements.txt (line 3)) (4.51.0)\n",
      "Requirement already satisfied: pyparsing>=2.3.1 in d:\\aigc\\cross-modal-transformer\\env\\lib\\site-packages (from matplotlib->-r requirements.txt (line 3)) (3.1.2)\n",
      "Requirement already satisfied: cycler>=0.10 in d:\\aigc\\cross-modal-transformer\\env\\lib\\site-packages (from matplotlib->-r requirements.txt (line 3)) (0.12.1)\n",
      "Requirement already satisfied: python-dateutil>=2.7 in d:\\aigc\\cross-modal-transformer\\env\\lib\\site-packages (from matplotlib->-r requirements.txt (line 3)) (2.9.0.post0)\n",
      "Requirement already satisfied: PyJWT in d:\\aigc\\cross-modal-transformer\\env\\lib\\site-packages (from neptune-client->-r requirements.txt (line 5)) (2.8.0)\n",
      "Requirement already satisfied: requests>=2.20.0 in d:\\aigc\\cross-modal-transformer\\env\\lib\\site-packages (from neptune-client->-r requirements.txt (line 5)) (2.31.0)\n",
      "Requirement already satisfied: future>=0.17.1 in d:\\aigc\\cross-modal-transformer\\env\\lib\\site-packages (from neptune-client->-r requirements.txt (line 5)) (1.0.0)\n",
      "Requirement already satisfied: pandas in d:\\aigc\\cross-modal-transformer\\env\\lib\\site-packages (from neptune-client->-r requirements.txt (line 5)) (2.2.2)\n",
      "Requirement already satisfied: websocket-client!=1.0.0,>=0.35.0 in d:\\aigc\\cross-modal-transformer\\env\\lib\\site-packages (from neptune-client->-r requirements.txt (line 5)) (1.7.0)\n",
      "Requirement already satisfied: urllib3 in d:\\aigc\\cross-modal-transformer\\env\\lib\\site-packages (from neptune-client->-r requirements.txt (line 5)) (2.2.1)\n",
      "Requirement already satisfied: six>=1.12.0 in d:\\aigc\\cross-modal-transformer\\env\\lib\\site-packages (from neptune-client->-r requirements.txt (line 5)) (1.16.0)\n",
      "Requirement already satisfied: typing-extensions>=3.10.0 in d:\\aigc\\cross-modal-transformer\\env\\lib\\site-packages (from neptune-client->-r requirements.txt (line 5)) (4.11.0)\n",
      "Requirement already satisfied: boto3>=1.28.0 in d:\\aigc\\cross-modal-transformer\\env\\lib\\site-packages (from neptune-client->-r requirements.txt (line 5)) (1.34.84)\n",
      "Requirement already satisfied: click>=7.0 in d:\\aigc\\cross-modal-transformer\\env\\lib\\site-packages (from neptune-client->-r requirements.txt (line 5)) (8.1.7)\n",
      "Requirement already satisfied: requests-oauthlib>=1.0.0 in d:\\aigc\\cross-modal-transformer\\env\\lib\\site-packages (from neptune-client->-r requirements.txt (line 5)) (2.0.0)\n",
      "Requirement already satisfied: swagger-spec-validator>=2.7.4 in d:\\aigc\\cross-modal-transformer\\env\\lib\\site-packages (from neptune-client->-r requirements.txt (line 5)) (3.0.3)\n",
      "Requirement already satisfied: GitPython>=2.0.8 in d:\\aigc\\cross-modal-transformer\\env\\lib\\site-packages (from neptune-client->-r requirements.txt (line 5)) (3.1.43)\n",
      "Requirement already satisfied: oauthlib>=2.1.0 in d:\\aigc\\cross-modal-transformer\\env\\lib\\site-packages (from neptune-client->-r requirements.txt (line 5)) (3.2.2)\n",
      "Requirement already satisfied: psutil in d:\\aigc\\cross-modal-transformer\\env\\lib\\site-packages (from neptune-client->-r requirements.txt (line 5)) (5.9.8)\n",
      "Requirement already satisfied: bravado<12.0.0,>=11.0.0 in d:\\aigc\\cross-modal-transformer\\env\\lib\\site-packages (from neptune-client->-r requirements.txt (line 5)) (11.0.3)\n",
      "Requirement already satisfied: tifffile>=2022.8.12 in d:\\aigc\\cross-modal-transformer\\env\\lib\\site-packages (from scikit-image->-r requirements.txt (line 6)) (2024.2.12)\n",
      "Requirement already satisfied: scipy>=1.9 in d:\\aigc\\cross-modal-transformer\\env\\lib\\site-packages (from scikit-image->-r requirements.txt (line 6)) (1.13.0)\n",
      "Requirement already satisfied: lazy-loader>=0.4 in d:\\aigc\\cross-modal-transformer\\env\\lib\\site-packages (from scikit-image->-r requirements.txt (line 6)) (0.4)\n",
      "Requirement already satisfied: networkx>=2.8 in d:\\aigc\\cross-modal-transformer\\env\\lib\\site-packages (from scikit-image->-r requirements.txt (line 6)) (3.3)\n",
      "Requirement already satisfied: imageio>=2.33 in d:\\aigc\\cross-modal-transformer\\env\\lib\\site-packages (from scikit-image->-r requirements.txt (line 6)) (2.34.0)\n",
      "Requirement already satisfied: threadpoolctl>=2.0.0 in d:\\aigc\\cross-modal-transformer\\env\\lib\\site-packages (from scikit-learn->-r requirements.txt (line 7)) (3.4.0)\n",
      "Requirement already satisfied: joblib>=1.2.0 in d:\\aigc\\cross-modal-transformer\\env\\lib\\site-packages (from scikit-learn->-r requirements.txt (line 7)) (1.4.0)\n",
      "Requirement already satisfied: tqdm in d:\\aigc\\cross-modal-transformer\\env\\lib\\site-packages (from mne->-r requirements.txt (line 9)) (4.66.2)\n",
      "Requirement already satisfied: decorator in d:\\aigc\\cross-modal-transformer\\env\\lib\\site-packages (from mne->-r requirements.txt (line 9)) (5.1.1)\n",
      "Requirement already satisfied: jinja2 in d:\\aigc\\cross-modal-transformer\\env\\lib\\site-packages (from mne->-r requirements.txt (line 9)) (3.1.3)\n",
      "Requirement already satisfied: pooch>=1.5 in d:\\aigc\\cross-modal-transformer\\env\\lib\\site-packages (from mne->-r requirements.txt (line 9)) (1.8.1)\n",
      "Requirement already satisfied: jmespath<2.0.0,>=0.7.1 in d:\\aigc\\cross-modal-transformer\\env\\lib\\site-packages (from boto3>=1.28.0->neptune-client->-r requirements.txt (line 5)) (1.0.1)\n",
      "Requirement already satisfied: botocore<1.35.0,>=1.34.84 in d:\\aigc\\cross-modal-transformer\\env\\lib\\site-packages (from boto3>=1.28.0->neptune-client->-r requirements.txt (line 5)) (1.34.84)\n",
      "Requirement already satisfied: s3transfer<0.11.0,>=0.10.0 in d:\\aigc\\cross-modal-transformer\\env\\lib\\site-packages (from boto3>=1.28.0->neptune-client->-r requirements.txt (line 5)) (0.10.1)\n",
      "Requirement already satisfied: pyyaml in d:\\aigc\\cross-modal-transformer\\env\\lib\\site-packages (from bravado<12.0.0,>=11.0.0->neptune-client->-r requirements.txt (line 5)) (6.0.1)\n",
      "Requirement already satisfied: msgpack in d:\\aigc\\cross-modal-transformer\\env\\lib\\site-packages (from bravado<12.0.0,>=11.0.0->neptune-client->-r requirements.txt (line 5)) (1.0.8)\n",
      "Requirement already satisfied: simplejson in d:\\aigc\\cross-modal-transformer\\env\\lib\\site-packages (from bravado<12.0.0,>=11.0.0->neptune-client->-r requirements.txt (line 5)) (3.19.2)\n",
      "Requirement already satisfied: monotonic in d:\\aigc\\cross-modal-transformer\\env\\lib\\site-packages (from bravado<12.0.0,>=11.0.0->neptune-client->-r requirements.txt (line 5)) (1.6)\n",
      "Requirement already satisfied: bravado-core>=5.16.1 in d:\\aigc\\cross-modal-transformer\\env\\lib\\site-packages (from bravado<12.0.0,>=11.0.0->neptune-client->-r requirements.txt (line 5)) (6.1.1)\n",
      "Requirement already satisfied: colorama in d:\\aigc\\cross-modal-transformer\\env\\lib\\site-packages (from click>=7.0->neptune-client->-r requirements.txt (line 5)) (0.4.6)\n",
      "Requirement already satisfied: gitdb<5,>=4.0.1 in d:\\aigc\\cross-modal-transformer\\env\\lib\\site-packages (from GitPython>=2.0.8->neptune-client->-r requirements.txt (line 5)) (4.0.11)\n",
      "Requirement already satisfied: platformdirs>=2.5.0 in d:\\aigc\\cross-modal-transformer\\env\\lib\\site-packages (from pooch>=1.5->mne->-r requirements.txt (line 9)) (4.2.0)\n",
      "Requirement already satisfied: idna<4,>=2.5 in d:\\aigc\\cross-modal-transformer\\env\\lib\\site-packages (from requests>=2.20.0->neptune-client->-r requirements.txt (line 5)) (3.7)\n",
      "Requirement already satisfied: certifi>=2017.4.17 in d:\\aigc\\cross-modal-transformer\\env\\lib\\site-packages (from requests>=2.20.0->neptune-client->-r requirements.txt (line 5)) (2024.2.2)\n",
      "Requirement already satisfied: charset-normalizer<4,>=2 in d:\\aigc\\cross-modal-transformer\\env\\lib\\site-packages (from requests>=2.20.0->neptune-client->-r requirements.txt (line 5)) (3.3.2)\n",
      "Requirement already satisfied: jsonschema in d:\\aigc\\cross-modal-transformer\\env\\lib\\site-packages (from swagger-spec-validator>=2.7.4->neptune-client->-r requirements.txt (line 5)) (4.21.1)\n",
      "Requirement already satisfied: MarkupSafe>=2.0 in d:\\aigc\\cross-modal-transformer\\env\\lib\\site-packages (from jinja2->mne->-r requirements.txt (line 9)) (2.1.5)\n",
      "Requirement already satisfied: pytz>=2020.1 in d:\\aigc\\cross-modal-transformer\\env\\lib\\site-packages (from pandas->neptune-client->-r requirements.txt (line 5)) (2024.1)\n",
      "Requirement already satisfied: tzdata>=2022.7 in d:\\aigc\\cross-modal-transformer\\env\\lib\\site-packages (from pandas->neptune-client->-r requirements.txt (line 5)) (2024.1)\n",
      "Requirement already satisfied: jsonref in d:\\aigc\\cross-modal-transformer\\env\\lib\\site-packages (from bravado-core>=5.16.1->bravado<12.0.0,>=11.0.0->neptune-client->-r requirements.txt (line 5)) (1.1.0)\n",
      "Requirement already satisfied: smmap<6,>=3.0.1 in d:\\aigc\\cross-modal-transformer\\env\\lib\\site-packages (from gitdb<5,>=4.0.1->GitPython>=2.0.8->neptune-client->-r requirements.txt (line 5)) (5.0.1)\n",
      "Requirement already satisfied: attrs>=22.2.0 in d:\\aigc\\cross-modal-transformer\\env\\lib\\site-packages (from jsonschema->swagger-spec-validator>=2.7.4->neptune-client->-r requirements.txt (line 5)) (23.2.0)\n",
      "Requirement already satisfied: jsonschema-specifications>=2023.03.6 in d:\\aigc\\cross-modal-transformer\\env\\lib\\site-packages (from jsonschema->swagger-spec-validator>=2.7.4->neptune-client->-r requirements.txt (line 5)) (2023.12.1)\n",
      "Requirement already satisfied: referencing>=0.28.4 in d:\\aigc\\cross-modal-transformer\\env\\lib\\site-packages (from jsonschema->swagger-spec-validator>=2.7.4->neptune-client->-r requirements.txt (line 5)) (0.34.0)\n",
      "Requirement already satisfied: rpds-py>=0.7.1 in d:\\aigc\\cross-modal-transformer\\env\\lib\\site-packages (from jsonschema->swagger-spec-validator>=2.7.4->neptune-client->-r requirements.txt (line 5)) (0.18.0)\n",
      "Requirement already satisfied: webcolors>=1.11 in d:\\aigc\\cross-modal-transformer\\env\\lib\\site-packages (from jsonschema->swagger-spec-validator>=2.7.4->neptune-client->-r requirements.txt (line 5)) (1.13)\n",
      "Requirement already satisfied: isoduration in d:\\aigc\\cross-modal-transformer\\env\\lib\\site-packages (from jsonschema->swagger-spec-validator>=2.7.4->neptune-client->-r requirements.txt (line 5)) (20.11.0)\n",
      "Requirement already satisfied: jsonpointer>1.13 in d:\\aigc\\cross-modal-transformer\\env\\lib\\site-packages (from jsonschema->swagger-spec-validator>=2.7.4->neptune-client->-r requirements.txt (line 5)) (2.4)\n",
      "Requirement already satisfied: fqdn in d:\\aigc\\cross-modal-transformer\\env\\lib\\site-packages (from jsonschema->swagger-spec-validator>=2.7.4->neptune-client->-r requirements.txt (line 5)) (1.5.1)\n",
      "Requirement already satisfied: rfc3986-validator>0.1.0 in d:\\aigc\\cross-modal-transformer\\env\\lib\\site-packages (from jsonschema->swagger-spec-validator>=2.7.4->neptune-client->-r requirements.txt (line 5)) (0.1.1)\n",
      "Requirement already satisfied: rfc3339-validator in d:\\aigc\\cross-modal-transformer\\env\\lib\\site-packages (from jsonschema->swagger-spec-validator>=2.7.4->neptune-client->-r requirements.txt (line 5)) (0.1.4)\n",
      "Requirement already satisfied: uri-template in d:\\aigc\\cross-modal-transformer\\env\\lib\\site-packages (from jsonschema->swagger-spec-validator>=2.7.4->neptune-client->-r requirements.txt (line 5)) (1.3.0)\n",
      "Requirement already satisfied: arrow>=0.15.0 in d:\\aigc\\cross-modal-transformer\\env\\lib\\site-packages (from isoduration->jsonschema->swagger-spec-validator>=2.7.4->neptune-client->-r requirements.txt (line 5)) (1.3.0)\n",
      "Requirement already satisfied: types-python-dateutil>=2.8.10 in d:\\aigc\\cross-modal-transformer\\env\\lib\\site-packages (from arrow>=0.15.0->isoduration->jsonschema->swagger-spec-validator>=2.7.4->neptune-client->-r requirements.txt (line 5)) (2.9.0.20240316)\n"
     ]
    },
    {
     "name": "stderr",
     "output_type": "stream",
     "text": [
      "WARNING: There was an error checking the latest version of pip.\n"
     ]
    }
   ],
   "source": [
    "pip install -r requirements.txt"
   ]
  },
  {
   "cell_type": "markdown",
   "metadata": {
    "id": "vMqJ5TA4eq2h"
   },
   "source": [
    "# Create dataset"
   ]
  },
  {
   "cell_type": "code",
   "execution_count": 6,
   "metadata": {
    "colab": {
     "background_save": true,
     "base_uri": "https://localhost:8080/"
    },
    "id": "r_U5_fW9d4fE",
    "outputId": "65ffc234-f16e-430d-8d7c-4fae5736091a"
   },
   "outputs": [
    {
     "name": "stdout",
     "output_type": "stream",
     "text": [
      "^C\n"
     ]
    }
   ],
   "source": [
    "!python \"data_preparations/single_epoch.py\" --save_path  \"./datasets/extract_dataset_single_epoch\""
   ]
  },
  {
   "cell_type": "markdown",
   "metadata": {
    "colab": {
     "background_save": true
    },
    "id": "0sot7fTwd2GA"
   },
   "source": [
    "### 没有反应,建议用cmd"
   ]
  }
 ],
 "metadata": {
  "colab": {
   "authorship_tag": "ABX9TyOjnbGHxA1sfxf7i4z0eims",
   "include_colab_link": true,
   "provenance": []
  },
  "kernelspec": {
   "display_name": "Python 3 (ipykernel)",
   "language": "python",
   "name": "python3"
  },
  "language_info": {
   "codemirror_mode": {
    "name": "ipython",
    "version": 3
   },
   "file_extension": ".py",
   "mimetype": "text/x-python",
   "name": "python",
   "nbconvert_exporter": "python",
   "pygments_lexer": "ipython3",
   "version": "3.10.11"
  }
 },
 "nbformat": 4,
 "nbformat_minor": 4
}
