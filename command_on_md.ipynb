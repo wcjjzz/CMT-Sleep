{
 "cells": [
  {
   "cell_type": "markdown",
   "id": "27b45437-a139-4fa7-915e-e262fbe8857b",
   "metadata": {},
   "source": [
    "\n",
    "# 现在开始\n",
    "\n",
    "\n"
   ]
  },
  {
   "cell_type": "markdown",
   "id": "340812e2-e742-4612-acb2-916caf326f8e",
   "metadata": {},
   "source": [
    "## 安装指引\n",
    "Run our algorithm using Pytorch and CUDA https://pytorch.org/\n",
    "\n"
   ]
  },
  {
   "cell_type": "code",
   "execution_count": null,
   "id": "f38e2096-98a2-40b2-9276-76e07e445b68",
   "metadata": {},
   "outputs": [],
   "source": [
    "\n",
    "pip3 install torch==1.10.0+cu113 torchvision==0.11.1+cu113 torchaudio===0.10.0+cu113 -f https://download.pytorch.org/whl/cu113/torch_stable.html\n",
    "\n",
    "\n",
    "pip install -r requirements.txt\n"
   ]
  },
  {
   "cell_type": "markdown",
   "id": "86bf01be-2a01-468f-93e0-f95eabab0e60",
   "metadata": {},
   "source": [
    "\n",
    "## 数据集生成\n",
    "\n",
    "### Kindly refer to 1Data_Generation_Script_Main.ipynb\n"
   ]
  },
  {
   "cell_type": "code",
   "execution_count": null,
   "id": "d81a9182-2edd-47d5-97fa-ccfe225eec1e",
   "metadata": {},
   "outputs": [],
   "source": [
    "python \"./data_preparations/single_epoch.py\" --save_path  \"./datasets/data\""
   ]
  },
  {
   "cell_type": "markdown",
   "id": "bdd6d28a-81a2-47ce-bfa9-42d83d1f1748",
   "metadata": {},
   "source": [
    "\n",
    "## 推理和获取解释(Interpretation)\n",
    "\n",
    "### Refer to 4Interpret_script_Main.ipynb"
   ]
  },
  {
   "cell_type": "markdown",
   "id": "7bf975ef-3e8e-44e1-9225-833283850f82",
   "metadata": {},
   "source": [
    "\n",
    "## 训练跨模态变换器\n"
   ]
  },
  {
   "cell_type": "markdown",
   "id": "10b3a569-3c53-40b3-a066-730f64ca0a82",
   "metadata": {},
   "source": [
    "### Train Epoch Cross-Modal Transformer"
   ]
  },
  {
   "cell_type": "code",
   "execution_count": null,
   "id": "f6048201-5213-4d5a-b1db-9cbc1fc972e1",
   "metadata": {},
   "outputs": [],
   "source": [
    "\n",
    "python cmt_training.py --project_path \"./results/<give project name>\" --data_path \"path/to/dataset\" --train_data_list <train dataset fold as a list==> ex:[0,1,2,3]> --val_data_list <validation fold as a list==> ex:[4]> --model_type \"Epoch\" \n"
   ]
  },
  {
   "cell_type": "markdown",
   "id": "281e8139-e772-4031-abc9-6966ea03d3b4",
   "metadata": {},
   "source": [
    "\n",
    "### Train Sequence Cross-Modal Transformer"
   ]
  },
  {
   "cell_type": "code",
   "execution_count": null,
   "id": "b3c04699-6995-4725-92bf-4c316aa6d042",
   "metadata": {},
   "outputs": [],
   "source": [
    "\n",
    "python cmt_training.py --project_path \"./results/<give project name>\" --data_path \"path/to/dataset\" --train_data_list <train dataset fold as a list==> ex:[0,1,2,3]> --val_data_list <validation fold as a list==> ex:[4]>  --model_type \"Seq\" \n"
   ]
  },
  {
   "cell_type": "markdown",
   "id": "65f445e1-1e61-4d38-9773-dfde02fb9954",
   "metadata": {},
   "source": [
    "## Evaluate Cross-Modal Transformers\n",
    "## Get Sleep Staging Results"
   ]
  },
  {
   "cell_type": "markdown",
   "id": "f5161dba-e243-4a32-876a-7b78dea9f8ed",
   "metadata": {},
   "source": [
    "### Evaluate Epoch Cross-Modal Transformer\n",
    "\n"
   ]
  },
  {
   "cell_type": "code",
   "execution_count": null,
   "id": "3200a80b-0e82-4694-973a-e4e7080e6e25",
   "metadata": {},
   "outputs": [],
   "source": [
    "\n",
    "python cmt_evaluate.py --project_path \"./results/<give project name>\" --data_path \"path/to/dataset\" --val_data_list <validation fold as a list==> ex:[4]> --model_type \"Epoch\" --batch_size 1"
   ]
  },
  {
   "cell_type": "markdown",
   "id": "812a19f3-ac02-4ddf-ba27-d828657892b2",
   "metadata": {},
   "source": [
    "### Evaluate Sequence Cross-Modal Transformer"
   ]
  },
  {
   "cell_type": "code",
   "execution_count": null,
   "id": "53c4a950-8a4a-4a7c-ab5a-d30d372042b0",
   "metadata": {},
   "outputs": [],
   "source": [
    "\n",
    "python cmt_evaluate.py --project_path \"./results/<give project name>\" --data_path \"path/to/dataset\" --val_data_list <validation fold as a list==> ex:[4]> --model_type \"Seq\" --batch_size 1\n",
    "\n",
    " "
   ]
  },
  {
   "cell_type": "markdown",
   "id": "5c23ff07-5bd6-4eea-ae34-3b0ddcdf7ba1",
   "metadata": {},
   "source": [
    "\n",
    "### Get Results\n",
    "\n",
    "The interpretation plots will be save under \"./results/<give project name>/interpretations/<Data no>\"\n"
   ]
  },
  {
   "cell_type": "code",
   "execution_count": null,
   "id": "acf8e344-997d-449e-a7bd-476d2af3826a",
   "metadata": {},
   "outputs": [],
   "source": [
    "\n",
    "python cmt_evaluate.py --project_path \"./results/<give project name>\" --data_path \"path/to/dataset\" --val_data_list <validation fold as a list==> ex:[4]> --model_type \"Seq\" --batch_size 1 --is_interpret True\n"
   ]
  }
 ],
 "metadata": {
  "kernelspec": {
   "display_name": "Python 3 (ipykernel)",
   "language": "python",
   "name": "python3"
  },
  "language_info": {
   "codemirror_mode": {
    "name": "ipython",
    "version": 3
   },
   "file_extension": ".py",
   "mimetype": "text/x-python",
   "name": "python",
   "nbconvert_exporter": "python",
   "pygments_lexer": "ipython3",
   "version": "3.10.11"
  }
 },
 "nbformat": 4,
 "nbformat_minor": 5
}
